{
  "metadata": {
    "language_info": {
      "codemirror_mode": {
        "name": "python",
        "version": 3
      },
      "file_extension": ".py",
      "mimetype": "text/x-python",
      "name": "python",
      "nbconvert_exporter": "python",
      "pygments_lexer": "ipython3",
      "version": "3.8"
    },
    "kernelspec": {
      "name": "python",
      "display_name": "Python (Pyodide)",
      "language": "python"
    }
  },
  "nbformat_minor": 4,
  "nbformat": 4,
  "cells": [
    {
      "cell_type": "code",
      "source": "# Big Data in Law Enforcement\n",
      "metadata": {
        "trusted": true
      },
      "execution_count": 1,
      "outputs": []
    },
    {
      "cell_type": "code",
      "source": "## Introduction\nBig data is a powerful tool that can be used to improve cyber security. By analyzing large amounts of data, security professionals can identify patterns and trends that may indicate a potential cyber attack.",
      "metadata": {
        "trusted": true
      },
      "execution_count": 10,
      "outputs": [
        {
          "ename": "<class 'SyntaxError'>",
          "evalue": "invalid syntax (<ipython-input-10-35eb981c649b>, line 2)",
          "traceback": [
            "\u001b[0;36m  Cell \u001b[0;32mIn[10], line 2\u001b[0;36m\u001b[0m\n\u001b[0;31m    Big data is a powerful tool that can be used to improve cyber security. By analyzing large amounts of data, security professionals can identify patterns and trends that may indicate a potential cyber attack.\u001b[0m\n\u001b[0m        ^\u001b[0m\n\u001b[0;31mSyntaxError\u001b[0m\u001b[0;31m:\u001b[0m invalid syntax\n"
          ],
          "output_type": "error"
        }
      ]
    },
    {
      "cell_type": "code",
      "source": "**Some of the popular languages that Data Scientists use are:**\n\n* **Python**\n* **R**\n* **SQL**\n\nThese languages are popular for data science because they are relatively easy to learn, have a wide range of libraries and tools available, and are well-suited for a variety of data science tasks, such as data cleaning, data analysis, and machine learning.\n",
      "metadata": {
        "trusted": true
      },
      "execution_count": 11,
      "outputs": [
        {
          "ename": "<class 'SyntaxError'>",
          "evalue": "invalid syntax (<ipython-input-11-cecbf5a0d294>, line 1)",
          "traceback": [
            "\u001b[0;36m  Cell \u001b[0;32mIn[11], line 1\u001b[0;36m\u001b[0m\n\u001b[0;31m    **Some of the popular languages that Data Scientists use are:**\u001b[0m\n\u001b[0m    ^\u001b[0m\n\u001b[0;31mSyntaxError\u001b[0m\u001b[0;31m:\u001b[0m invalid syntax\n"
          ],
          "output_type": "error"
        }
      ]
    },
    {
      "cell_type": "code",
      "source": "**Some of the commonly used libraries used by Data Scientists include:**\n\n* **Python:**\n    * NumPy\n    * Pandas\n    * Scikit-Learn\n* **R:**\n    * dplyr\n    * ggplot2\n    * caret\n* **Other:**\n    * TensorFlow\n    * PyTorch\n    * Spark\n\nThese libraries provide a wide range of functionality for data cleaning, data analysis, and machine learning. They are also well-maintained and have large communities of users and contributors.\n",
      "metadata": {
        "trusted": true
      },
      "execution_count": 12,
      "outputs": [
        {
          "ename": "<class 'SyntaxError'>",
          "evalue": "invalid syntax (<ipython-input-12-13bc026df257>, line 1)",
          "traceback": [
            "\u001b[0;36m  Cell \u001b[0;32mIn[12], line 1\u001b[0;36m\u001b[0m\n\u001b[0;31m    **Some of the commonly used libraries used by Data Scientists include:**\u001b[0m\n\u001b[0m    ^\u001b[0m\n\u001b[0;31mSyntaxError\u001b[0m\u001b[0;31m:\u001b[0m invalid syntax\n"
          ],
          "output_type": "error"
        }
      ]
    },
    {
      "cell_type": "code",
      "source": "| Data Science Tools |\n|---|---|\n| Jupyter Notebook |\n| RStudio |\n| Anaconda |\n",
      "metadata": {
        "trusted": true
      },
      "execution_count": 16,
      "outputs": [
        {
          "ename": "<class 'SyntaxError'>",
          "evalue": "invalid syntax (<ipython-input-16-0ba0fbb663bc>, line 1)",
          "traceback": [
            "\u001b[0;36m  Cell \u001b[0;32mIn[16], line 1\u001b[0;36m\u001b[0m\n\u001b[0;31m    | Data Science Tools |\u001b[0m\n\u001b[0m    ^\u001b[0m\n\u001b[0;31mSyntaxError\u001b[0m\u001b[0;31m:\u001b[0m invalid syntax\n"
          ],
          "output_type": "error"
        }
      ]
    },
    {
      "cell_type": "code",
      "source": "## Arithmetic Expression in Python\n\n### Below are a few examples of evaluating arithmetic expressions in Python:\n\n```python\n# Addition\n1 + 2\n# Output: 3\n\n# Subtraction\n5 - 3\n# Output: 2\n\n# Multiplication\n2 * 3\n# Output: 6\n\n# Division\n10 / 3\n# Output: 3.3333333333333335\n\n# Exponents\n2 ** 3\n# Output: 8\n\n# Modulus\n10 % 3\n# Output: 1\n\n\n**Note:** Python follows the order of operations, which means that multiplication and division are evaluated before addition and subtraction. If you need to override the order of operations, you can use parentheses.\n\npython\n# Evaluate multiplication before addition\n(2 * 3) + 1\n# Output: 7\n\n# Evaluate subtraction before division\n10 - (3 / 2)\n# Output: 8.5\n",
      "metadata": {
        "trusted": true
      },
      "execution_count": 15,
      "outputs": [
        {
          "ename": "<class 'SyntaxError'>",
          "evalue": "invalid syntax (<ipython-input-15-7769240206ac>, line 5)",
          "traceback": [
            "\u001b[0;36m  Cell \u001b[0;32mIn[15], line 5\u001b[0;36m\u001b[0m\n\u001b[0;31m    ```python\u001b[0m\n\u001b[0m    ^\u001b[0m\n\u001b[0;31mSyntaxError\u001b[0m\u001b[0;31m:\u001b[0m invalid syntax\n"
          ],
          "output_type": "error"
        }
      ]
    },
    {
      "cell_type": "code",
      "source": "# This is a simple arithmetic expression\nprint((4*6)+9)\n",
      "metadata": {
        "trusted": true
      },
      "execution_count": 8,
      "outputs": [
        {
          "name": "stdout",
          "text": "33\n",
          "output_type": "stream"
        }
      ]
    },
    {
      "cell_type": "code",
      "source": "# This will convert 300 minutes to hours by dividing by 60\nprint(300 / 60)",
      "metadata": {
        "trusted": true
      },
      "execution_count": 9,
      "outputs": [
        {
          "name": "stdout",
          "text": "5.0\n",
          "output_type": "stream"
        }
      ]
    },
    {
      "cell_type": "markdown",
      "source": "## Zhalgas Kamzabekov",
      "metadata": {}
    },
    {
      "cell_type": "code",
      "source": "",
      "metadata": {},
      "execution_count": null,
      "outputs": []
    }
  ]
}